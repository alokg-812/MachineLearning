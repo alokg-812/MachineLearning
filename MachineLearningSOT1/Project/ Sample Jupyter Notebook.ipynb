{
 "cells": [
  {
   "cell_type": "markdown",
   "id": "b567bd4a-fe60-4eb4-b50c-6a06628baa9e",
   "metadata": {},
   "source": [
    "# Data Ingestion:(10%)"
   ]
  },
  {
   "cell_type": "code",
   "execution_count": 1,
   "id": "dad654d9-5091-43cf-bf03-bdb74f5ce419",
   "metadata": {},
   "outputs": [],
   "source": [
    "import pandas as pd"
   ]
  },
  {
   "cell_type": "code",
   "execution_count": 3,
   "id": "1cee2157-8a5f-4b3b-b069-c91d251269f3",
   "metadata": {},
   "outputs": [],
   "source": [
    "df = pd.read_excel(r\"C:\\Users\\alokg\\Desktop\\Machine Learing\\ML_SaurabhSir\\EndTermProject\\Election_Data.xlsx\", sheet_name=\"Election_Dataset_Two Classes\")"
   ]
  },
  {
   "cell_type": "code",
   "execution_count": 10,
   "id": "4897f506-4f70-4ed8-a6d5-84e6d9b8ee00",
   "metadata": {},
   "outputs": [
    {
     "name": "stdout",
     "output_type": "stream",
     "text": [
      "<class 'pandas.core.frame.DataFrame'>\n",
      "RangeIndex: 1525 entries, 0 to 1524\n",
      "Data columns (total 10 columns):\n",
      " #   Column                   Non-Null Count  Dtype \n",
      "---  ------                   --------------  ----- \n",
      " 0   Unnamed: 0               1525 non-null   int64 \n",
      " 1   vote                     1525 non-null   object\n",
      " 2   age                      1525 non-null   int64 \n",
      " 3   economic.cond.national   1525 non-null   int64 \n",
      " 4   economic.cond.household  1525 non-null   int64 \n",
      " 5   Blair                    1525 non-null   int64 \n",
      " 6   Hague                    1525 non-null   int64 \n",
      " 7   Europe                   1525 non-null   int64 \n",
      " 8   political.knowledge      1525 non-null   int64 \n",
      " 9   gender                   1525 non-null   object\n",
      "dtypes: int64(8), object(2)\n",
      "memory usage: 119.3+ KB\n"
     ]
    }
   ],
   "source": [
    "df.head()\n",
    "df.info()"
   ]
  },
  {
   "cell_type": "code",
   "execution_count": 13,
   "id": "17f61670-271d-40d0-8c4a-9ee07dc51887",
   "metadata": {},
   "outputs": [],
   "source": [
    "# Checking for null values and handling them (dropping or imputing as needed).\n",
    "# Performing data type validation and converting categorical or numeric data appropriately."
   ]
  },
  {
   "cell_type": "code",
   "execution_count": 15,
   "id": "93637df2-556a-45c5-9e00-de61f61542f7",
   "metadata": {},
   "outputs": [
    {
     "data": {
      "text/plain": [
       "Index(['Unnamed: 0', 'vote', 'age', 'economic.cond.national',\n",
       "       'economic.cond.household', 'Blair', 'Hague', 'Europe',\n",
       "       'political.knowledge', 'gender'],\n",
       "      dtype='object')"
      ]
     },
     "execution_count": 15,
     "metadata": {},
     "output_type": "execute_result"
    }
   ],
   "source": [
    "df.columns"
   ]
  },
  {
   "cell_type": "code",
   "execution_count": 17,
   "id": "19540611-348c-4a09-b89c-c178b357b6c2",
   "metadata": {},
   "outputs": [],
   "source": [
    "df.drop(columns=['Unnamed: 0'], inplace=True)"
   ]
  },
  {
   "cell_type": "code",
   "execution_count": 19,
   "id": "a73ab395-fc31-47ee-9971-02ffd0c41fbe",
   "metadata": {},
   "outputs": [
    {
     "name": "stdout",
     "output_type": "stream",
     "text": [
      "vote                       0\n",
      "age                        0\n",
      "economic.cond.national     0\n",
      "economic.cond.household    0\n",
      "Blair                      0\n",
      "Hague                      0\n",
      "Europe                     0\n",
      "political.knowledge        0\n",
      "gender                     0\n",
      "dtype: int64\n"
     ]
    }
   ],
   "source": [
    "# Checking for null values\n",
    "print(df.isnull().sum())"
   ]
  },
  {
   "cell_type": "code",
   "execution_count": 21,
   "id": "f07b3800-e325-45aa-b088-5672c63d1da7",
   "metadata": {},
   "outputs": [],
   "source": [
    "# Encoding 'vote' Using Label Encoding"
   ]
  },
  {
   "cell_type": "code",
   "execution_count": 25,
   "id": "9bcf094d-b954-4c0d-b5d1-6321437a09cd",
   "metadata": {},
   "outputs": [],
   "source": [
    "from sklearn.preprocessing import LabelEncoder\n",
    "\n",
    "# Encode 'vote' column\n",
    "le = LabelEncoder()\n",
    "df['vote'] = le.fit_transform(df['vote'])\n",
    "df = pd.get_dummies(df, columns=['vote'], drop_first=True)"
   ]
  },
  {
   "cell_type": "code",
   "execution_count": 31,
   "id": "92b24c8a-7f5b-46f1-8068-91211eceda04",
   "metadata": {},
   "outputs": [
    {
     "name": "stdout",
     "output_type": "stream",
     "text": [
      "age                        int64\n",
      "economic.cond.national     int64\n",
      "economic.cond.household    int64\n",
      "Blair                      int64\n",
      "Hague                      int64\n",
      "Europe                     int64\n",
      "political.knowledge        int64\n",
      "gender                     int32\n",
      "vote_1                      bool\n",
      "dtype: object\n"
     ]
    }
   ],
   "source": [
    "# checking all columns are numeric:\n",
    "print(df.dtypes)"
   ]
  },
  {
   "cell_type": "code",
   "execution_count": 29,
   "id": "dd822372-c42a-45ff-b046-1346a21f1753",
   "metadata": {},
   "outputs": [],
   "source": [
    "# Since gender has only two categories (male and female), we can use Label Encoding to convert them into 0 and 1.\n",
    "# Encoding 'gender' column\n",
    "le = LabelEncoder()\n",
    "df['gender'] = le.fit_transform(df['gender'])"
   ]
  },
  {
   "cell_type": "code",
   "execution_count": 35,
   "id": "87ae4210-ae2c-4bc8-b7ca-5090813fe54e",
   "metadata": {},
   "outputs": [
    {
     "name": "stdout",
     "output_type": "stream",
     "text": [
      "(1525, 9)\n",
      "   age  economic.cond.national  economic.cond.household  Blair  Hague  Europe  \\\n",
      "0   43                       3                        3      4      1       2   \n",
      "1   36                       4                        4      4      4       5   \n",
      "2   35                       4                        4      5      2       3   \n",
      "3   24                       4                        2      2      1       4   \n",
      "4   41                       2                        2      1      1       6   \n",
      "\n",
      "   political.knowledge  gender  vote_1  \n",
      "0                    2       0    True  \n",
      "1                    2       1    True  \n",
      "2                    2       1    True  \n",
      "3                    0       0    True  \n",
      "4                    2       1    True  \n"
     ]
    }
   ],
   "source": [
    "# Before computing furhter anything, checking if the DataFrame has all valid data:\n",
    "print(df.shape)  # Should print (rows, columns)\n",
    "print(df.head())  # Check the first few rows"
   ]
  },
  {
   "cell_type": "code",
   "execution_count": 37,
   "id": "e1515ee6-9b7d-4c61-9660-568687fb9992",
   "metadata": {},
   "outputs": [],
   "source": [
    "# force conversion in float datatype:\n",
    "df = df.astype(float)  # Convert all columns to float"
   ]
  },
  {
   "cell_type": "code",
   "execution_count": null,
   "id": "249f2654-02e2-4840-bd75-f09df4290aa7",
   "metadata": {},
   "outputs": [],
   "source": []
  },
  {
   "cell_type": "code",
   "execution_count": null,
   "id": "8ddcdf1d-8872-4821-9653-9caaddb67177",
   "metadata": {},
   "outputs": [],
   "source": []
  },
  {
   "cell_type": "markdown",
   "id": "3ee407a1-d70e-48b6-83df-24ac67cbc6e1",
   "metadata": {},
   "source": [
    "# 2. Exploratory Data Analysis (EDA)"
   ]
  },
  {
   "cell_type": "code",
   "execution_count": null,
   "id": "c572cc68-25bf-47db-8f57-e298d15b627a",
   "metadata": {},
   "outputs": [],
   "source": []
  },
  {
   "cell_type": "code",
   "execution_count": null,
   "id": "b3f5e60b-da57-4413-af8b-f5411da4ce60",
   "metadata": {},
   "outputs": [],
   "source": []
  }
 ],
 "metadata": {
  "kernelspec": {
   "display_name": "Python 3 (ipykernel)",
   "language": "python",
   "name": "python3"
  },
  "language_info": {
   "codemirror_mode": {
    "name": "ipython",
    "version": 3
   },
   "file_extension": ".py",
   "mimetype": "text/x-python",
   "name": "python",
   "nbconvert_exporter": "python",
   "pygments_lexer": "ipython3",
   "version": "3.12.7"
  }
 },
 "nbformat": 4,
 "nbformat_minor": 5
}
